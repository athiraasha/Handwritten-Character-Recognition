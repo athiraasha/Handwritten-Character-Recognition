{
 "cells": [
  {
   "cell_type": "code",
   "execution_count": 4,
   "metadata": {},
   "outputs": [],
   "source": [
    "import os\n",
    "from PIL import Image\n",
    "\n",
    "def crop_img(path,new_path):\n",
    "    for root, dirs, files in os.walk(path):\n",
    "        if len(files)!=0:\n",
    "            for f in files:\n",
    "                fullpath = os.path.join(root, f)\n",
    "                let_dir,img_name = fullpath.split('/')[6].split(\"\\\\\")\n",
    "                if(not os.path.isdir(new_path+let_dir)):\n",
    "                    os.mkdir(new_path+let_dir)\n",
    "                    path_test_tmp = new_path+let_dir+\"/\"\n",
    "                im = Image.open(fullpath)\n",
    "                left = 3\n",
    "                top = 3\n",
    "                right = 47\n",
    "                bottom = 47\n",
    "               \n",
    "                im1 = im.crop((left, top, right, bottom))\n",
    "                y = path_test_tmp+img_name\n",
    "                im1.save(y,\"JPEG\")\n",
    "crop_img(\"C:/Users/User/Documents/image_processing_research/R/\",\"C:/Users/User/Documents/image_processing_research/Cropped_R/\")\n",
    "# Change the paths accordingly\n",
    "# you need to create Cropped_R directory\n",
    "#C:\\Users\\User\\Documents\\image_processing_research"
   ]
  },
  {
   "cell_type": "code",
   "execution_count": 5,
   "metadata": {},
   "outputs": [],
   "source": [
    "import os\n",
    "from PIL import Image\n",
    "\n",
    "def crop_img(path,new_path):\n",
    "    for root, dirs, files in os.walk(path):\n",
    "        if len(files)!=0:\n",
    "            for f in files:\n",
    "                fullpath = os.path.join(root, f)\n",
    "                let_dir,img_name = fullpath.split('/')[6].split(\"\\\\\")\n",
    "                if(not os.path.isdir(new_path+let_dir)):\n",
    "                    os.mkdir(new_path+let_dir)\n",
    "                    path_test_tmp = new_path+let_dir+\"/\"\n",
    "                im = Image.open(fullpath)\n",
    "                left = 3\n",
    "                top = 3\n",
    "                right = 47\n",
    "                bottom = 47\n",
    "               \n",
    "                im1 = im.crop((left, top, right, bottom))\n",
    "                y = path_test_tmp+img_name\n",
    "                im1.save(y,\"JPEG\")\n",
    "crop_img(\"C:/Users/User/Documents/image_processing_research/Test/\",\"C:/Users/User/Documents/image_processing_research/Cropped_Test/\")"
   ]
  },
  {
   "cell_type": "code",
   "execution_count": 8,
   "metadata": {},
   "outputs": [],
   "source": [
    "import cv2\n",
    "import numpy as np\n",
    "import os\n",
    "from sklearn.neighbors import KNeighborsClassifier\n",
    "\n",
    "\n",
    "\n",
    "di = ['K','KH','G','GH', 'JNA',\n",
    "      'C', 'CH','J','JH','JN',\n",
    "      'TT', 'T','DH','DDH','NN',\n",
    "      'TTH','TH','D','DD','N',\n",
    "      'P','PH','B', 'BH','M',  \n",
    "      'Y','R','L','V','SH','SHH','SA','H','LH','KSHA','YN']\n",
    "\n",
    "\n",
    "window_row=5\n",
    "window_col=5\n",
    "image_row=47\n",
    "image_col=47\n",
    "f1=open(\"zoning_knn_train_feature.txt\",\"w+\")\n",
    "f2=open(\"zoning_knn_train_label.txt\",\"w+\")\n",
    "\n",
    "\n",
    "def extract_features(image_binary):\n",
    "    train_density_list=[]\n",
    "    for train_row in range(0,image_row, window_row):\n",
    "        for train_col in range(0,image_col, window_col):\n",
    "            window = image_binary[train_row:train_row+window_row,train_col:train_col+window_col]\n",
    "            train_window_white_pixels=cv2.countNonZero(window)\n",
    "            train_density=float(train_window_white_pixels)/(window_row*window_col)\n",
    "            train_density_list.append(train_density)\n",
    "\n",
    "    train_density_list=np.float32(train_density_list)\n",
    "    return train_density_list\n"
   ]
  },
  {
   "cell_type": "code",
   "execution_count": 9,
   "metadata": {},
   "outputs": [
    {
     "name": "stdout",
     "output_type": "stream",
     "text": [
      "K\n",
      "KH\n",
      "G\n",
      "GH\n",
      "JNA\n",
      "C\n",
      "CH\n",
      "J\n",
      "JH\n",
      "JN\n",
      "TT\n",
      "T\n",
      "DH\n",
      "DDH\n",
      "NN\n",
      "TTH\n",
      "TH\n",
      "D\n",
      "DD\n",
      "N\n",
      "P\n",
      "PH\n",
      "B\n",
      "BH\n",
      "M\n",
      "Y\n",
      "R\n",
      "L\n",
      "V\n",
      "SH\n",
      "SHH\n",
      "SA\n",
      "H\n",
      "LH\n",
      "KSHA\n",
      "YN\n",
      "done\n"
     ]
    }
   ],
   "source": [
    "train_features = []\n",
    "train_labels = []\n",
    "for k in di:\n",
    "    path=\"Cropped_R/\"+k+\"/\"\n",
    "    files = os.listdir(path)\n",
    "    for i in files:\n",
    "        x=i.split(\"_\")\n",
    "        y=x[0].split(\"c\")\n",
    "        image = cv2.imread(path+i)\n",
    "        gray = cv2.cvtColor(image, cv2.COLOR_BGR2GRAY)\n",
    "        ret,image_binary = cv2.threshold(gray,127,255,cv2.THRESH_BINARY) \n",
    "        features = extract_features(image_binary)\n",
    "        train_features.append(features)\n",
    "        train_labels.append(int(y[1]))\n",
    "    print(k)\n",
    "print(\"done\")\n",
    "f1.write(str(train_features))\n",
    "f2.write(str(train_labels))\n",
    "f1.close()\n",
    "f2.close()\n",
    "\n",
    "\n",
    "training_matrix = np.asarray(train_features)\n",
    "training_matrix=np.float32(training_matrix)\n",
    "train_label_matrix=np.asarray(train_labels)\n",
    "train_label_matrix=np.float32(train_label_matrix)"
   ]
  },
  {
   "cell_type": "code",
   "execution_count": 10,
   "metadata": {},
   "outputs": [
    {
     "name": "stdout",
     "output_type": "stream",
     "text": [
      "K\n",
      "KH\n",
      "G\n",
      "GH\n",
      "JNA\n",
      "C\n",
      "CH\n",
      "J\n",
      "JH\n",
      "JN\n",
      "TT\n",
      "T\n",
      "DH\n",
      "DDH\n",
      "NN\n",
      "TTH\n",
      "TH\n",
      "D\n",
      "DD\n",
      "N\n",
      "P\n",
      "PH\n",
      "B\n",
      "BH\n",
      "M\n",
      "Y\n",
      "R\n",
      "L\n",
      "V\n",
      "SH\n",
      "SHH\n",
      "SA\n",
      "H\n",
      "LH\n",
      "KSHA\n",
      "YN\n",
      "done\n"
     ]
    }
   ],
   "source": [
    "test_features = []\n",
    "test_labels = []\n",
    "f1=open(\"haralick_knn_test_feature.txt\",\"w+\")\n",
    "f2=open(\"haralick_knn_test_label.txt\",\"w+\")\n",
    "\n",
    "\n",
    "    \n",
    "\n",
    "for k in di:\n",
    "    path=\"Cropped_Test/\"+k+\"/\"\n",
    "    files = os.listdir(path)\n",
    "    for i in files:\n",
    "        x=i.split(\"_\")\n",
    "        y=x[0].split(\"c\")\n",
    "        image = cv2.imread(path+i)\n",
    "        gray = cv2.cvtColor(image, cv2.COLOR_BGR2GRAY)\n",
    "        ret,image_binary = cv2.threshold(gray,127,255,cv2.THRESH_BINARY) \n",
    "        features = extract_features(image_binary)\n",
    "        test_features.append(features)\n",
    "        test_labels.append(int(y[1]))\n",
    "    print(k)\n",
    "print(\"done\")\n",
    "f1.write(str(test_features))\n",
    "f2.write(str(test_labels))\n",
    "f1.close()\n",
    "f2.close()\n",
    "\n",
    "testing_matrix = np.asarray(test_features)\n",
    "testing_matrix=np.float32(testing_matrix)\n",
    "test_label_matrix=np.asarray(test_labels)\n",
    "test_label_matrix=np.float32(test_label_matrix)"
   ]
  },
  {
   "cell_type": "code",
   "execution_count": 11,
   "metadata": {},
   "outputs": [],
   "source": [
    "\n",
    "from sklearn.metrics import accuracy_score"
   ]
  },
  {
   "cell_type": "code",
   "execution_count": 12,
   "metadata": {},
   "outputs": [
    {
     "ename": "NameError",
     "evalue": "name 'metrics' is not defined",
     "output_type": "error",
     "traceback": [
      "\u001b[1;31m---------------------------------------------------------------------------\u001b[0m",
      "\u001b[1;31mNameError\u001b[0m                                 Traceback (most recent call last)",
      "\u001b[1;32m<ipython-input-12-6eaa56ea10e7>\u001b[0m in \u001b[0;36m<module>\u001b[1;34m\u001b[0m\n\u001b[0;32m      3\u001b[0m \u001b[0mclf\u001b[0m\u001b[1;33m.\u001b[0m\u001b[0mfit\u001b[0m\u001b[1;33m(\u001b[0m\u001b[0mtraining_matrix\u001b[0m\u001b[1;33m,\u001b[0m\u001b[0mtrain_label_matrix\u001b[0m\u001b[1;33m)\u001b[0m\u001b[1;33m\u001b[0m\u001b[1;33m\u001b[0m\u001b[0m\n\u001b[0;32m      4\u001b[0m \u001b[0my_pred\u001b[0m\u001b[1;33m=\u001b[0m\u001b[0mclf\u001b[0m\u001b[1;33m.\u001b[0m\u001b[0mpredict\u001b[0m\u001b[1;33m(\u001b[0m\u001b[0mtesting_matrix\u001b[0m\u001b[1;33m)\u001b[0m\u001b[1;33m\u001b[0m\u001b[1;33m\u001b[0m\u001b[0m\n\u001b[1;32m----> 5\u001b[1;33m \u001b[0mprint\u001b[0m\u001b[1;33m(\u001b[0m\u001b[1;34m\"Accuracy:\"\u001b[0m\u001b[1;33m,\u001b[0m\u001b[0mmetrics\u001b[0m\u001b[1;33m.\u001b[0m\u001b[0maccuracy_score\u001b[0m\u001b[1;33m(\u001b[0m\u001b[0mtest_label_matrix\u001b[0m\u001b[1;33m,\u001b[0m \u001b[0my_pred\u001b[0m\u001b[1;33m)\u001b[0m\u001b[1;33m)\u001b[0m\u001b[1;33m\u001b[0m\u001b[1;33m\u001b[0m\u001b[0m\n\u001b[0m",
      "\u001b[1;31mNameError\u001b[0m: name 'metrics' is not defined"
     ]
    }
   ],
   "source": [
    "from sklearn.ensemble import RandomForestClassifier\n",
    "clf=RandomForestClassifier(n_estimators=2000)\n",
    "clf.fit(training_matrix,train_label_matrix)\n",
    "y_pred=clf.predict(testing_matrix)\n",
    "print(\"Accuracy:\",metrics.accuracy_score(test_label_matrix, y_pred))"
   ]
  },
  {
   "cell_type": "code",
   "execution_count": 13,
   "metadata": {},
   "outputs": [
    {
     "name": "stdout",
     "output_type": "stream",
     "text": [
      "Accuracy: 0.7213888888888889\n"
     ]
    }
   ],
   "source": [
    "from sklearn import metrics\n",
    "print(\"Accuracy:\",metrics.accuracy_score(test_label_matrix, y_pred))"
   ]
  },
  {
   "cell_type": "code",
   "execution_count": 15,
   "metadata": {},
   "outputs": [
    {
     "name": "stdout",
     "output_type": "stream",
     "text": [
      "[18. 29. 23. 11. 24. 27. 36. 11.]\n"
     ]
    }
   ],
   "source": [
    "import os\n",
    "features_l = []\n",
    "actual = []\n",
    "path = \"demo/\"\n",
    "\n",
    "for root,dirs,files in os.walk(path):\n",
    "        for i in files:\n",
    "            p = root +'/' + i\n",
    "            image = cv2.imread(path+i)\n",
    "            gray = cv2.cvtColor(image, cv2.COLOR_BGR2GRAY)\n",
    "            ret,image_binary = cv2.threshold(gray,127,255,cv2.THRESH_BINARY)\n",
    "            features = extract_features(image_binary)\n",
    "            features_l.append(features)\n",
    "            x=i.split(\"_\")\n",
    "            y=x[0].split(\"c\")\n",
    "            actual.append(int(y[1]))\n",
    "y_pred1=clf.predict(features_l)\n",
    "print(y_pred1)"
   ]
  },
  {
   "cell_type": "code",
   "execution_count": 16,
   "metadata": {},
   "outputs": [
    {
     "name": "stdout",
     "output_type": "stream",
     "text": [
      "[13, 18, 23, 23, 24, 27, 36, 6]\n"
     ]
    }
   ],
   "source": [
    "print(actual)"
   ]
  },
  {
   "cell_type": "code",
   "execution_count": null,
   "metadata": {},
   "outputs": [],
   "source": []
  }
 ],
 "metadata": {
  "kernelspec": {
   "display_name": "Python 3",
   "language": "python",
   "name": "python3"
  },
  "language_info": {
   "codemirror_mode": {
    "name": "ipython",
    "version": 3
   },
   "file_extension": ".py",
   "mimetype": "text/x-python",
   "name": "python",
   "nbconvert_exporter": "python",
   "pygments_lexer": "ipython3",
   "version": "3.7.1"
  }
 },
 "nbformat": 4,
 "nbformat_minor": 2
}
